{
  "nbformat": 4,
  "nbformat_minor": 0,
  "metadata": {
    "colab": {
      "provenance": [],
      "include_colab_link": true
    },
    "kernelspec": {
      "name": "python3",
      "display_name": "Python 3"
    },
    "language_info": {
      "name": "python"
    }
  },
  "cells": [
    {
      "cell_type": "markdown",
      "metadata": {
        "id": "view-in-github",
        "colab_type": "text"
      },
      "source": [
        "<a href=\"https://colab.research.google.com/github/wenqiglantz/llmops/blob/main/LLM_AutoEval_MistralTrinity_7b_slerp.ipynb\" target=\"_parent\"><img src=\"https://colab.research.google.com/assets/colab-badge.svg\" alt=\"Open In Colab\"/></a>"
      ]
    },
    {
      "cell_type": "code",
      "source": [
        "# @title # 🧐 LLM AutoEval\n",
        "\n",
        "# @markdown > 🗣️ [Large Language Model Course](https://github.com/mlabonne/llm-course)\n",
        "\n",
        "# @markdown ❤️ Created by [@maximelabonne](https://twitter.com/maximelabonne).\n",
        "\n",
        "# @markdown This notebook allows you to **automatically evaluate your LLMs** using RunPod. If you don't have an account, please consider using my [referral link](https://runpod.io?ref=9nvk2srl).\n",
        "\n",
        "# @markdown Once a pod has started, you can safely close this tab. The results are then privately uploaded to [GitHub Gist](https://gist.github.com/), and the pod is automatically destroyed.\n",
        "\n",
        "# @markdown For further details, see the project on 💻 [GitHub](https://github.com/mlabonne/llm-autoeval)\n",
        "\n",
        "!pip install -qqq runpod --progress-bar off\n",
        "\n",
        "import runpod\n",
        "from google.colab import userdata\n",
        "\n",
        "# @markdown ---\n",
        "\n",
        "# @markdown ## Evaluation parameters\n",
        "BENCHMARK = \"nous\" # @param [\"nous\", \"openllm\"]\n",
        "MODEL = \"wenqiglantz/MistralTrinity-7B-slerp\" # @param {type:\"string\"}\n",
        "GPU = \"NVIDIA RTX A5000\" # @param [\"NVIDIA A100 80GB PCIe\", \"NVIDIA A100-SXM4-80GB\", \"NVIDIA A30\", \"NVIDIA A40\", \"NVIDIA GeForce RTX 3070\", \"NVIDIA GeForce RTX 3080\", \"NVIDIA GeForce RTX 3080 Ti\", \"NVIDIA GeForce RTX 3090\", \"NVIDIA GeForce RTX 3090 Ti\", \"NVIDIA GeForce RTX 4070 Ti\", \"NVIDIA GeForce RTX 4080\", \"NVIDIA GeForce RTX 4090\", \"NVIDIA H100 80GB HBM3\", \"NVIDIA H100 PCIe\", \"NVIDIA L4\", \"NVIDIA L40\", \"NVIDIA RTX 4000 Ada Generation\", \"NVIDIA RTX 4000 SFF Ada Generation\", \"NVIDIA RTX 5000 Ada Generation\", \"NVIDIA RTX 6000 Ada Generation\", \"NVIDIA RTX A2000\", \"NVIDIA RTX A4000\", \"NVIDIA RTX A4500\", \"NVIDIA RTX A5000\", \"NVIDIA RTX A6000\", \"Tesla V100-FHHL-16GB\", \"Tesla V100-PCIE-16GB\", \"Tesla V100-SXM2-16GB\", \"Tesla V100-SXM2-32GB\"]\n",
        "NUMBER_OF_GPUS = 1 # @param {type:\"slider\", min:1, max:8, step:1}\n",
        "CONTAINER_DISK = 100 # @param {type:\"slider\", min:50, max:500, step:25}\n",
        "CLOUD_TYPE = \"COMMUNITY\" # @param [\"COMMUNITY\", \"SECURE\"]\n",
        "REPO = \"https://github.com/mlabonne/llm-autoeval.git\" # @param {type:\"string\"}\n",
        "TRUST_REMOTE_CODE = True # @param {type:\"boolean\"}\n",
        "DEBUG = False # @param {type:\"boolean\"}\n",
        "\n",
        "# @markdown ---\n",
        "\n",
        "# @markdown ## Tokens\n",
        "# @markdown Enter the name of your tokens in the Secrets tab.\n",
        "RUNPOD_TOKEN = \"RUNPOD_TOKEN\" # @param {type:\"string\"}\n",
        "GITHUB_TOKEN = \"GITHUB_TOKEN\" # @param {type:\"string\"}\n",
        "\n",
        "# Environment variables\n",
        "runpod.api_key = userdata.get(RUNPOD_TOKEN)\n",
        "GITHUB_API_TOKEN = userdata.get(GITHUB_TOKEN)\n",
        "\n",
        "# Create a pod\n",
        "pod = runpod.create_pod(\n",
        "    name=f\"Eval {MODEL.split('/')[-1]} on {BENCHMARK.capitalize()}\",\n",
        "    image_name=\"runpod/pytorch:2.0.1-py3.10-cuda11.8.0-devel-ubuntu22.04\",\n",
        "    gpu_type_id=GPU,\n",
        "    cloud_type=CLOUD_TYPE,\n",
        "    gpu_count=NUMBER_OF_GPUS,\n",
        "    volume_in_gb=0,\n",
        "    container_disk_in_gb=CONTAINER_DISK,\n",
        "    template_id=\"au6nz6emhk\",\n",
        "    env={\n",
        "        \"BENCHMARK\": BENCHMARK,\n",
        "        \"MODEL\": MODEL,\n",
        "        \"REPO\": REPO,\n",
        "        \"TRUST_REMOTE_CODE\": TRUST_REMOTE_CODE,\n",
        "        \"DEBUG\": DEBUG,\n",
        "        \"GITHUB_API_TOKEN\": GITHUB_API_TOKEN,\n",
        "    }\n",
        ")\n",
        "\n",
        "print(\"Pod started: https://www.runpod.io/console/pods\")"
      ],
      "metadata": {
        "id": "elyxjYI_rY5W",
        "colab": {
          "base_uri": "https://localhost:8080/"
        },
        "outputId": "5fd249f3-1262-4528-9514-0850ab6e18fc"
      },
      "execution_count": null,
      "outputs": [
        {
          "output_type": "stream",
          "name": "stdout",
          "text": [
            "Pod started: https://www.runpod.io/console/pods\n"
          ]
        }
      ]
    }
  ]
}